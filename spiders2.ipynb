{
 "cells": [
  {
   "cell_type": "code",
   "execution_count": 1,
   "metadata": {},
   "outputs": [
    {
     "name": "stdout",
     "output_type": "stream",
     "text": [
      "订阅\n",
      "订阅\n",
      "订阅\n",
      "订阅\n",
      "订阅\n",
      "订阅\n"
     ]
    }
   ],
   "source": [
    "import requests\n",
    "import re\n",
    "from bs4 import BeautifulSoup\n",
    "def get_html(url):\n",
    "    proxies = {\n",
    "        'https': 'https://127.0.0.1:7890',  # 查找到你的vpn在本机使用的\n",
    "        'http': 'http://127.0.0.1:7890',  # 查找到vpn在本机使用的http代理端口\n",
    "    }\n",
    "    cookies={\n",
    "        \"_fbp\": \"fb.1.1650466080181.1283404296\",\n",
    "        \"58_dismissed\": \"1\",\n",
    "        \"al\": \"azPhDbP6T0n_SpruGHuMYjKnH8nW5D1h3u9hKC0HDDWW8gB-1650629706153225\",\n",
    "        \"device_type\": \"normal\",\n",
    "        \"feed_params\": \"{\\\"view_unread\\\":0,\\\"search_language\\\":\\\"\\\"}\",\n",
    "        \"ino-player\": \"{\\\"current_item\\\":null,\\\"volume\\\":100,\\\"playbackRate\\\":1,\\\"current_time\\\":0,\\\"maximized\\\":false,\\\"stopped\\\":true,\\\"offset\\\":{\\\"offsetX\\\":32,\\\"offsetY\\\":32}}\",\n",
    "        \"OABLOCK\": \"97.1650641382\",\n",
    "        \"OAID\": \"88f5b450e1bc35e6fd4a9c283db8dc3a\",\n",
    "        \"OASCAP\": \"97.1\",\n",
    "        \"screen_pixel_ratio\": \"1.5\",\n",
    "        \"screen_resolution\": \"1707x960\",\n",
    "        \"ssid\": \"buh40657gtgo9k6e76rrbqv624\",\n",
    "        \"window_dimensions\": \"1707x557\"\n",
    "    }\n",
    "    headers = {\n",
    "        'User-Agent':'Mozilla/5.0 (Windows NT 10.0; Win64; x64; rv:99.0) Gecko/20100101 Firefox/99.0'\n",
    "    }\n",
    "    response = requests.get(url,headers=headers,proxies=proxies,cookies=cookies)       #请求访问网站\n",
    "    html = response.text       #获取网页源码\n",
    "    return html                #返回网页源码\n",
    "\n",
    "url='https://www.inoreader.com/all_articles'\n",
    "soup = BeautifulSoup(get_html(url), 'lxml') \n",
    "for div in soup.find_all(name='div'):         #遍历父节点\n",
    "        for a in div.find_all(name='a'):     #遍历子节点\n",
    "            if a.string==None:\n",
    "                pass\n",
    "            else:\n",
    "                print(a.string)      #输出结果"
   ]
  },
  {
   "cell_type": "code",
   "execution_count": null,
   "metadata": {},
   "outputs": [],
   "source": []
  }
 ],
 "metadata": {
  "interpreter": {
   "hash": "96eb50e1d44aed467dc8f759cb08c32fbfa9babcf79c554e2d0e5feb04653a10"
  },
  "kernelspec": {
   "display_name": "Python 3.9.7 ('base')",
   "language": "python",
   "name": "python3"
  },
  "language_info": {
   "codemirror_mode": {
    "name": "ipython",
    "version": 3
   },
   "file_extension": ".py",
   "mimetype": "text/x-python",
   "name": "python",
   "nbconvert_exporter": "python",
   "pygments_lexer": "ipython3",
   "version": "3.9.7"
  },
  "orig_nbformat": 4
 },
 "nbformat": 4,
 "nbformat_minor": 2
}

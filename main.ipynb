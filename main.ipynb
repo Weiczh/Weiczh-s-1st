{
 "cells": [
  {
   "cell_type": "code",
   "execution_count": 2,
   "metadata": {},
   "outputs": [],
   "source": [
    "from utils import get_rows #import the functions from the utils.py\n",
    "from utils import window_search"
   ]
  },
  {
   "cell_type": "code",
   "execution_count": 3,
   "metadata": {},
   "outputs": [],
   "source": [
    "rows=get_rows() #get the top 500 computers' data"
   ]
  },
  {
   "cell_type": "code",
   "execution_count": 3,
   "metadata": {},
   "outputs": [
    {
     "name": "stdout",
     "output_type": "stream",
     "text": [
      "SunwayTaihuLight\n"
     ]
    },
    {
     "data": {
      "text/plain": [
       "[['Rank', 'System', 'Cores', 'Rmax', 'Rpeak', 'Power'],\n",
       " ['4',\n",
       "  'SunwayTaihuLight-SunwayMPP, SunwaySW26010260C1.45GHz, Sunway, NRCPCNationalSupercomputingCenterinWuxiChina',\n",
       "  '10649600',\n",
       "  '93014.6',\n",
       "  '125435.9',\n",
       "  '15371']]"
      ]
     },
     "execution_count": 3,
     "metadata": {},
     "output_type": "execute_result"
    }
   ],
   "source": [
    "window_search(rows) #search the matching items you like from the data"
   ]
  },
  {
   "cell_type": "code",
   "execution_count": null,
   "metadata": {},
   "outputs": [],
   "source": []
  }
 ],
 "metadata": {
  "interpreter": {
   "hash": "96eb50e1d44aed467dc8f759cb08c32fbfa9babcf79c554e2d0e5feb04653a10"
  },
  "kernelspec": {
   "display_name": "Python 3.9.7 ('base')",
   "language": "python",
   "name": "python3"
  },
  "language_info": {
   "codemirror_mode": {
    "name": "ipython",
    "version": 3
   },
   "file_extension": ".py",
   "mimetype": "text/x-python",
   "name": "python",
   "nbconvert_exporter": "python",
   "pygments_lexer": "ipython3",
   "version": "3.9.7"
  },
  "orig_nbformat": 4
 },
 "nbformat": 4,
 "nbformat_minor": 2
}

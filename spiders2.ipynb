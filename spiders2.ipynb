{
 "cells": [
  {
   "cell_type": "code",
   "execution_count": 5,
   "metadata": {},
   "outputs": [
    {
     "name": "stdout",
     "output_type": "stream",
     "text": [
      "200\n",
      "[]\n"
     ]
    }
   ],
   "source": [
    "import requests\n",
    "import re\n",
    "from bs4 import BeautifulSoup\n",
    "def get_response():\n",
    "    proxies = {\n",
    "        'https': 'https://127.0.0.1:7890',  # the vpn port in pc\n",
    "        'http': 'http://127.0.0.1:7890',  # the vpn port in pc\n",
    "    }\n",
    "    url='https://top500.org/lists/top500/2021/11/'\n",
    "    headers = {\n",
    "        'User-Agent':'Mozilla/5.0 (Windows NT 10.0; Win64; x64; rv:99.0) Gecko/20100101 Firefox/99.0'\n",
    "    }\n",
    "    response = requests.get(url,headers=headers,proxies=proxies)\n",
    "    return response\n",
    "\n",
    "r=get_response()\n",
    "print(r.status_code)\n",
    "html = r.text       #get html from the web\n",
    "soup = BeautifulSoup(html, 'lxml')\n",
    "pe=re.findall(r'<tr><td>(.*?)</td><td><a href=\"/system/.*?\"><b>(.*?)</b> - .*?,</a> IBM\n",
    "                <br/>\n",
    "                \n",
    "                    <a href=\"/site/48553\">DOE/SC/Oak Ridge National Laboratory</a><br>United States\n",
    "                \n",
    "            </td>\n",
    "            \n",
    "                <td style=\"text-align: right;\">2,414,592</td>\n",
    "                <td style=\"text-align: right;\">148,600.0</td>\n",
    "                <td style=\"text-align: right;\">200,794.9</td>\n",
    "                <td>10,096</td>\n",
    "            \n",
    "        </tr>',re.S).findall(html)\n",
    "print(pe)\n",
    "#data = str(data)\n",
    "#item = re.findall(pe, data)\n"
   ]
  },
  {
   "cell_type": "code",
   "execution_count": 17,
   "metadata": {},
   "outputs": [
    {
     "name": "stdout",
     "output_type": "stream",
     "text": [
      "https://en.wikipedia.org/wiki/Caesium\n"
     ]
    }
   ],
   "source": []
  },
  {
   "cell_type": "code",
   "execution_count": null,
   "metadata": {},
   "outputs": [],
   "source": []
  }
 ],
 "metadata": {
  "interpreter": {
   "hash": "96eb50e1d44aed467dc8f759cb08c32fbfa9babcf79c554e2d0e5feb04653a10"
  },
  "kernelspec": {
   "display_name": "Python 3.9.7 ('base')",
   "language": "python",
   "name": "python3"
  },
  "language_info": {
   "codemirror_mode": {
    "name": "ipython",
    "version": 3
   },
   "file_extension": ".py",
   "mimetype": "text/x-python",
   "name": "python",
   "nbconvert_exporter": "python",
   "pygments_lexer": "ipython3",
   "version": "3.9.7"
  },
  "orig_nbformat": 4
 },
 "nbformat": 4,
 "nbformat_minor": 2
}

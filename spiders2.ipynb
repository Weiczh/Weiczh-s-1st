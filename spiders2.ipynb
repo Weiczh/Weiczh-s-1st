{
 "cells": [
  {
   "cell_type": "code",
   "execution_count": 26,
   "metadata": {},
   "outputs": [
    {
     "name": "stdout",
     "output_type": "stream",
     "text": [
      "No entry in Wikipedia.\n"
     ]
    }
   ],
   "source": [
    "import requests\n",
    "import re\n",
    "from bs4 import BeautifulSoup\n",
    "def get_re(sth):\n",
    "    proxies = {\n",
    "        'https': 'https://127.0.0.1:7890',  # the vpn port in pc\n",
    "        'http': 'http://127.0.0.1:7890',  # the vpn port in pc\n",
    "    }\n",
    "    cookies={\n",
    "\t\t\"enwikiBlockID\": \"9828144!4d53c67590d3c4c12514132d7a349f76e3d9b8cf749436f55bd182cdb9cb2d61c24e5c19a5e3de830a3afaf62edb3cc5d9c13adc4dc1c7d6f9648d9a5e85c41f\",\n",
    "\t\t\"enwikiel-sessionId\": \"dd2de44c807b7e2d1ab3\",\n",
    "\t\t\"enwikimwuser-sessionId\": \"8f582dbacce7583a98b3\",\n",
    "\t\t\"enwikiwmE-sessionTickLastTickTime\": \"1650724692536\",\n",
    "\t\t\"enwikiwmE-sessionTickTickCount\": \"3\",\n",
    "\t\t\"GeoIP\": \"HK:::22.26:114.17:v4\",\n",
    "}\n",
    "    url='https://en.wikipedia.org/wiki/'+sth\n",
    "    headers = {\n",
    "        'User-Agent':'Mozilla/5.0 (Windows NT 10.0; Win64; x64; rv:99.0) Gecko/20100101 Firefox/99.0'\n",
    "    }\n",
    "    response = requests.get(url,headers=headers,proxies=proxies,cookies=cookies)\n",
    "    return response\n",
    "#soup = BeautifulSoup(get_html(url), 'lxml') \n",
    "#a_list = soup.find_all('a')\n",
    "#for a in a_list:\n",
    " #   print(a.get('href'))\n",
    "sth='Caesium'\n",
    "re=get_re(sth)\n",
    "if re.status_code==404:\n",
    "    print('No entry in Wikipedia.')\n",
    "else:\n",
    "    html = re.text       #get html from the web\n",
    "    soup = BeautifulSoup(html, 'lxml')\n",
    "    \n",
    "\n"
   ]
  },
  {
   "cell_type": "code",
   "execution_count": 17,
   "metadata": {},
   "outputs": [
    {
     "name": "stdout",
     "output_type": "stream",
     "text": [
      "https://en.wikipedia.org/wiki/Caesium\n"
     ]
    }
   ],
   "source": [
    "url='https://en.wikipedia.org/wiki/'+'Caesium'\n",
    "print(url)"
   ]
  },
  {
   "cell_type": "code",
   "execution_count": null,
   "metadata": {},
   "outputs": [],
   "source": []
  }
 ],
 "metadata": {
  "interpreter": {
   "hash": "96eb50e1d44aed467dc8f759cb08c32fbfa9babcf79c554e2d0e5feb04653a10"
  },
  "kernelspec": {
   "display_name": "Python 3.9.7 ('base')",
   "language": "python",
   "name": "python3"
  },
  "language_info": {
   "codemirror_mode": {
    "name": "ipython",
    "version": 3
   },
   "file_extension": ".py",
   "mimetype": "text/x-python",
   "name": "python",
   "nbconvert_exporter": "python",
   "pygments_lexer": "ipython3",
   "version": "3.9.7"
  },
  "orig_nbformat": 4
 },
 "nbformat": 4,
 "nbformat_minor": 2
}

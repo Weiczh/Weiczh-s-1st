{
 "cells": [
  {
   "cell_type": "code",
   "execution_count": 5,
   "metadata": {},
   "outputs": [],
   "source": [
    "from bs4 import BeautifulSoup as bs\n",
    "import urllib\n",
    "import urllib.request\n",
    "from urllib.request import urlopen\n",
    "import csv\n",
    " \n",
    "urpage=\"https://top500.org/lists/top500/list/2021/11/?page=1\"\n",
    "page=urlopen(urpage)\n",
    "soup=bs(page,\"html.parser\")\n",
    " \n",
    "table=soup.find(\"table\")\n",
    "rows=[]\n",
    "rows.append([\"Rank\",\"System\",\"Cores\",\"Rmax\",\"Rpeak\",\"Power\"])\n",
    " \n",
    "results=table.find_all('tr')\n",
    "for result in results:\n",
    "    data=result.find_all(\"td\")\n",
    "    if len(data)==0:\n",
    "        continue\n",
    "    rank=data[0].getText()\n",
    "    system=data[1].getText()\n",
    "    Cores=data[2].getText()\n",
    "    Rmax=data[3].getText()\n",
    "    Rpeak=data[4].getText()\n",
    "    Power=data[5].getText()\n",
    "    ## 处理数据与符号\n",
    "    system=system.replace('\\n','').replace(' ','').replace(',',', ')\n",
    "    Cores=Cores.replace(',','')\n",
    "    Rmax=Rmax.replace(',','')\n",
    "    Rpeak=Rpeak.replace(',','')\n",
    "    Power=Power.replace(',','')\n",
    "    rows.append([rank,system,Cores,Rmax,Rpeak,Power])\n",
    "    mrows=[rank,system,Cores,Rmax,Rpeak,Power]\n",
    "\n",
    "\n",
    "\n",
    "\n"
   ]
  },
  {
   "cell_type": "code",
   "execution_count": 7,
   "metadata": {},
   "outputs": [
    {
     "name": "stdout",
     "output_type": "stream",
     "text": [
      "[['Rank', 'System', 'Cores', 'Rmax', 'Rpeak', 'Power'], ['1', 'SupercomputerFugaku-SupercomputerFugaku, A64FX48C2.2GHz, TofuinterconnectD, FujitsuRIKENCenterforComputationalScienceJapan', '7630848', '442010.0', '537212.0', '29899'], ['2', 'Summit-IBMPowerSystemAC922, IBMPOWER922C3.07GHz, NVIDIAVoltaGV100, Dual-railMellanoxEDRInfiniband, IBMDOE/SC/OakRidgeNationalLaboratoryUnitedStates', '2414592', '148600.0', '200794.9', '10096'], ['3', 'Sierra-IBMPowerSystemAC922, IBMPOWER922C3.1GHz, NVIDIAVoltaGV100, Dual-railMellanoxEDRInfiniband, IBM/NVIDIA/MellanoxDOE/NNSA/LLNLUnitedStates', '1572480', '94640.0', '125712.0', '7438'], ['4', 'SunwayTaihuLight-SunwayMPP, SunwaySW26010260C1.45GHz, Sunway, NRCPCNationalSupercomputingCenterinWuxiChina', '10649600', '93014.6', '125435.9', '15371'], ['5', 'Perlmutter-HPECrayEX235n, AMDEPYC776364C2.45GHz, NVIDIAA100SXM440GB, Slingshot-10, HPEDOE/SC/LBNL/NERSCUnitedStates', '761856', '70870.0', '93750.0', '2589'], ['6', 'Selene-NVIDIADGXA100, AMDEPYC774264C2.25GHz, NVIDIAA100, MellanoxHDRInfiniband, NvidiaNVIDIACorporationUnitedStates', '555520', '63460.0', '79215.0', '2646'], ['7', 'Tianhe-2A-TH-IVB-FEPCluster, IntelXeonE5-2692v212C2.2GHz, THExpress-2, Matrix-2000, NUDTNationalSuperComputerCenterinGuangzhouChina', '4981760', '61444.5', '100678.7', '18482'], ['8', 'JUWELSBoosterModule-BullSequanaXH2000, AMDEPYC740224C2.8GHz, NVIDIAA100, MellanoxHDRInfiniBand/ParTecParaStationClusterSuite, AtosForschungszentrumJuelich(FZJ)Germany', '449280', '44120.0', '70980.0', '1764'], ['9', 'HPC5-PowerEdgeC4140, XeonGold625224C2.1GHz, NVIDIATeslaV100, MellanoxHDRInfiniband, DELLEMCEniS.p.A.Italy', '669760', '35450.0', '51720.8', '2252'], ['10', 'Voyager-EUS2-ND96amsr_A100_v4, AMDEPYC7V1248C2.45GHz, NVIDIAA10080GB\\u200b, MellanoxHDRInfiniband, MicrosoftAzureAzureEastUS2UnitedStates', '253440', '30050.0', '39531.2', ''], ['11', 'SSC-21-Apollo6500Gen10plus, AMDEPYC754332C2.8GHz, NVIDIAA10080GB\\u200b, InfinibandHDR200, HPESamsungElectronicsSouthKorea', '204160', '25177.0', '31751.1', ''], ['12', 'Polaris-Apollo6500, AMDEPYC753232C2.4GHz, NVIDIAA100SXM440GB, Slingshot-10, HPEDOE/SC/ArgonneNationalLaboratoryUnitedStates', '259840', '23840.0', '34595.6', ''], ['13', 'Frontera-DellC6420, XeonPlatinum828028C2.7GHz, MellanoxInfiniBandHDR, DELLEMCTexasAdvancedComputingCenter/Univ.ofTexasUnitedStates', '448448', '23516.4', '38745.9', ''], ['14', \"CEA-HF-BullSequanaXH2000, AMDEPYC776364C2.45GHz, AtosBXIV2, AtosCommissariatal'EnergieAtomique(CEA)France\", '810240', '23237.6', '31761.4', '4959'], ['15', 'Dammam-7-CrayCS-Storm, XeonGold624820C2.5GHz, NVIDIATeslaV100SXM2, InfiniBandHDR100, HPESaudiAramcoSaudiArabia', '672520', '22400.0', '55423.6', ''], ['16', 'ABCI2.0-PRIMERGYGX2570M6, XeonPlatinum8360Y36C2.4GHz, NVIDIAA100SXM440GB, InfinibandHDR, FujitsuNationalInstituteofAdvancedIndustrialScienceandTechnology(AIST)Japan', '504000', '22208.7', '54341.0', '1600'], ['17', 'Wisteria/BDEC-01(Odyssey)-PRIMEHPCFX1000, A64FX48C2.2GHz, TofuinterconnectD, FujitsuInformationTechnologyCenter, TheUniversityofTokyoJapan', '368640', '22121.0', '25952.3', '1468'], ['18', 'Marconi-100-IBMPowerSystemAC922, IBMPOWER916C3GHz, NvidiaVoltaV100, Dual-railMellanoxEDRInfiniband, IBMCINECAItaly', '347776', '21640.0', '29354.0', '1476'], ['19', 'Chervonenkis-YANDEXY4N-GA1-TY25-ZB0, AMDEPYC770264C2GHz, NVIDIAA10080GB\\u200b, Infiniband, YANDEX, NVIDIAYandexRussia', '193440', '21530.0', '29415.2', ''], ['20', 'PizDaint-CrayXC50, XeonE5-2690v312C2.6GHz, Ariesinterconnect, NVIDIATeslaP100, HPESwissNationalSupercomputingCentre(CSCS)Switzerland', '387872', '21230.0', '27154.3', '2384'], ['21', 'Trinity-CrayXC40, XeonE5-2698v316C2.3GHz, IntelXeonPhi725068C1.4GHz, Ariesinterconnect, HPEDOE/NNSA/LANL/SNLUnitedStates', '979072', '20158.7', '41461.2', '7578'], ['22', 'ARCHER2-CrayXE, AMDEPYC774264C2.25GHz, Slingshot-10, HPEEPSRC/UniversityofEdinburghUnitedKingdom', '716800', '19539.0', '25804.0', ''], ['23', 'SuperMUC-NG-ThinkSystemSD650, XeonPlatinum817424C3.1GHz, IntelOmni-Path, LenovoLeibnizRechenzentrumGermany', '305856', '19476.6', '26873.9', ''], ['24', 'Hawk-Apollo9000, AMDEPYC774264C2.25GHz, MellanoxHDRInfiniband, HPEHLRS-HöchstleistungsrechenzentrumStuttgartGermany', '698880', '19334.0', '25159.7', '3906'], ['25', 'Ghawar-1-HPECrayEX, AMDEPYC770264C2GHz, Slingshot-10, HPESaudiAramcoSaudiArabia', '714240', '19256.0', '22855.7', ''], ['26', 'Lassen-IBMPowerSystemAC922, IBMPOWER922C3.1GHz, Dual-railMellanoxEDRInfiniband, NVIDIATeslaV100, IBM/NVIDIA/MellanoxDOE/NNSA/LLNLUnitedStates', '288288', '18200.0', '23047.2', ''], ['27', 'Guru-ThinkSystemSD650V2, XeonPlatinum8368Q38C2.6GHz, InfinibandHDR, LenovoKoreaMeteorologicalAdministrationSouthKorea', '306432', '18002.8', '25495.1', '3296'], ['28', 'Maru-ThinkSystemSD650V2, XeonPlatinum8368Q38C2.6GHz, InfinibandHDR, LenovoKoreaMeteorologicalAdministrationSouthKorea', '306432', '18002.8', '25495.1', '3296'], ['29', 'PANGEAIII-IBMPowerSystemAC922, IBMPOWER918C3.45GHz, Dual-railMellanoxEDRInfiniband, NVIDIAVoltaGV100, IBMTotalExplorationProductionFrance', '291024', '17860.0', '25025.8', '1367'], ['30', 'HiPerGatorAI-NVIDIADGXA100, AMDEPYC774264C2.25GHz, NVIDIAA100, InfinibandHDR, NvidiaUniversityofFloridaUnitedStates', '138880', '17200.0', '21314.7', '583'], ['31', 'TOKI-SORA-PRIMEHPCFX1000, A64FX48C2.2GHz, TofuinterconnectD, FujitsuJapanAerospaceeXplorationAgencyJapan', '276480', '16592.0', '19464.2', ''], ['32', 'Pioneer-EUS-NDv4cluster, AMDEPYC7V1248C2.45GHz, NVIDIAA100, InfinibandHDR, MicrosoftAzureAzureEastUSUnitedStates', '157440', '16590.0', '24557.2', ''], ['33', 'Pioneer-SCUS-NDv4cluster, AMDEPYC7V1248C2.45GHz, NVIDIAA100, InfinibandHDR, MicrosoftAzureAzureSouthCentralUSUnitedStates', '157440', '16590.0', '24557.2', ''], ['34', 'Pioneer-WEU-NDv4cluster, AMDEPYC7V1248C2.45GHz, NVIDIAA100, InfinibandHDR, MicrosoftAzureAzureWestEuropeNetherlands', '157440', '16590.0', '24557.2', ''], ['35', 'Pioneer-WUS2-NDv4cluster, AMDEPYC7V1248C2.45GHz, NVIDIAA100, InfinibandHDR, MicrosoftAzureAzureWestUS2UnitedStates', '157440', '16590.0', '24557.2', ''], ['36', 'Galushkin-YANDEXY4N-GA1-TY25-ZB0, AMDEPYC770264C2GHz, NVIDIAA10080GB\\u200b, Infiniband, YANDEX, NVIDIAYandexRussia', '134912', '16020.0', '20636.1', ''], ['37', 'Cori-CrayXC40, IntelXeonPhi725068C1.4GHz, Ariesinterconnect, HPEDOE/SC/LBNL/NERSCUnitedStates', '622336', '14014.7', '27880.7', '3939'], ['38', 'Nurion-CrayCS500, IntelXeonPhi725068C1.4GHz, IntelOmni-Path, HPEKoreaInstituteofScienceandTechnologyInformationSouthKorea', '570020', '13929.3', '25705.9', ''], ['39', 'Oakforest-PACS-PRIMERGYCX1640M1, IntelXeonPhi725068C1.4GHz, IntelOmni-Path, FujitsuJointCenterforAdvancedHighPerformanceComputingJapan', '556104', '13554.6', '24913.5', '2719'], ['40', 'Lyapunov-InspurNF5488A5, AMDEPYC766264C2GHz, NVIDIAA10040GB, Infiniband, NVIDIA, InspurYandexRussia', '130944', '12810.0', '20029.2', ''], ['41', 'HPC4-ProliantDL380Gen10, XeonPlatinum816024C2.1GHz, MellanoxInfiniBandEDR, NVIDIATeslaP100, HPEEniS.p.A.Italy', '253600', '12210.0', '18621.1', '1320'], ['42', \"Tera-1000-2-BullSequanaX1000, IntelXeonPhi725068C1.4GHz, BullBXI1.2, AtosCommissariatal'EnergieAtomique(CEA)France\", '561408', '11965.5', '23396.4', '3178'], ['43', 'ChristofariNeo-NVIDIADGXA100, AMDEPYC774264C2.25GHz, NVIDIAA10080GB\\u200b, Infiniband, NvidiaSberCloudRussia', '98208', '11950.0', '14908.6', ''], ['44', 'Stampede2-PowerEdgeC6320P/C6420, IntelXeonPhi725068C1.4GHz/Platinum8160, IntelOmni-Path, DELLEMCTexasAdvancedComputingCenter/Univ.ofTexasUnitedStates', '367024', '10680.7', '18309.2', ''], ['45', 'MeluXina-AcceleratorModule-BullSequanaXH2000, AMDEPYC745232C2.35GHz, NVIDIAA10040GB, MellanoxHDRInfiniBand/ParTecParaStationClusterSuite, AtosLuxProvideLuxembourg', '99200', '10520.0', '15288.0', '390'], ['46', 'Cactus-HPECrayEX, AMDEPYC774264C2.25GHz, Slingshot-10, HPEGDIT/NOAA/WCOSSUnitedStates', '327680', '10013.0', '11796.5', ''], ['47', 'Dogwood-HPECrayEX, AMDEPYC774264C2.25GHz, Slingshot-10, HPEGDIT/NOAA/WCOSSUnitedStates', '327680', '10013.0', '11796.5', ''], ['48', 'EarthSimulator-SX-AuroraTSUBASA-SX-AuroraTSUBASAB401-8, VectorEngineType20B8C1.6GHz, InfinibandHDR200, NECJapanAgencyforMarine-EarthScienceandTechnologyJapan', '43776', '9990.7', '13448.0', '1391'], ['49', 'AmazonEC2InstanceClusterus-east-1a-AmazonEC2r5.24xlarge, XeonPlatinum826024C2.4GHz, 25GEthernet, AmazonWebServicesDescartesLabsUnitedStates', '172692', '9950.3', '15106.5', ''], ['50', 'NVIDIACambridge-1DGXSuperPOD-NVIDIADGXA100, AMDEPYC774264C2.25GHz, NVIDIAA10080GB\\u200b, InfinibandHDR, NvidiaNVIDIACorporationUnitedStates', '79360', '9682.0', '12047.0', ''], ['51', 'DGXSuperPOD-NVIDIADGX-2H, XeonPlatinum817424C3.1GHz, NVIDIATeslaV100, MellanoxInfiniBandEDR, NvidiaNVIDIACorporationUnitedStates', '127488', '9444.0', '11209.1', ''], ['52', 'JURECADataCentricModule-BullSequanaXH2000, AMDEPYC774264C2.25GHz, NVIDIAA10040GB, MellanoxHDRInfiniBand/ParTecParaStationClusterSuite, AtosForschungszentrumJuelich(FZJ)Germany', '105840', '9330.0', '14508.0', '384'], ['53', 'Gadi-PRIMERGYCX2570M5, ThinkSystemSD650, XeonPlatinum8274/8268, NVIDIATeslaV100SXM2, MellanoxHDRInfiniband, Fujitsu/LenovoNationalComputationalInfrastructure(NCIAustralia)Australia', '204032', '9264.3', '15142.2', ''], ['54', 'Taiwania2-QCTQuantaGridD52G-4U/LC, XeonGold615418C3GHz, MellanoxInfiniBandEDR, NVIDIATeslaV100SXM2, QuantaComputer/TaiwanFixedNetwork/ASUSCloudNationalCenterforHighPerformanceComputingTaiwan', '170352', '9000.0', '15208.2', '798'], ['55', 'Dragão-SupermicroSYS-4029GP-TVRT, XeonGold6230R26C2.1GHz, NVIDIATeslaV100, InfinibandEDR, AtosPetróleoBrasileiroS.ABrazil', '188224', '8983.0', '14006.5', '943'], ['56', 'Raven-GPU-ThinkSystemSD650-NV2, XeonPlatinum8360Y36C2.4GHz, NVIDIAA100, MellanoxHDRInfiniband, LenovoMax-Planck-GesellschaftMPI/IPPGermany', '96768', '8620.0', '16031.5', '377'], ['57', 'AiMOS-IBMPowerSystemAC922, IBMPOWER920C3.45GHz, NVIDIAVoltaGV100, Dual-railMellanoxEDRInfiniband, IBMRensselaerPolytechnicInstituteCenterforComputationalInnovations(CCI)UnitedStates', '130000', '8339.0', '11032.0', '512'], ['58', 'Taranis-BullSequanaXH2000, AMDEPYC774264C2.25GHz, MellanoxInfiniBandHDR100, AtosMeteoFranceFrance', '294912', '8191.0', '10321.9', '1672'], ['59', 'TSUBAME3.0-SGIICEXA, IP139-SXM2, XeonE5-2680v414C2.4GHz, IntelOmni-Path, NVIDIATeslaP100SXM2, HPEGSICCenter, TokyoInstituteofTechnologyJapan', '135828', '8125.0', '12127.1', '792'], ['60', 'Roxy-Apollo2000, XeonGold624820C2.5GHz, InfinibandEDR, HPEGovernmentUnitedStates', '174720', '8124.5', '13977.6', ''], ['61', 'HoreKa-Green-ThinkSystemSD650V2, XeonPlatinum836838C2.4GHz, NVIDIAA10040GB, MellanoxHDRInfiniband, LenovoKarlsruherInstitutfürTechnologie(KIT)Germany', '90932', '8025.6', '15006.8', '359'], ['62', 'Narwhal-HPECrayEX, AMDEPYC7H1264C2.6GHz, Slingshot-10, HPENavyDSRCUnitedStates', '276480', '8023.6', '11501.6', ''], ['63', 'PlasmaSimulator-SX-AuroraTSUBASAA412-8, VectorEngineType10AE8C1.58GHz, InfinibandHDR200, NECNationalInstituteforFusionScience(NIFS)Japan', '34560', '7892.7', '10510.7', '1550'], ['64', 'Belenos-BullSequanaXH2000, AMDEPYC774264C2.25GHz, MellanoxHDR100, AtosMeteoFranceFrance', '294912', '7683.4', '10469.4', '1655'], ['65', 'PupMaya-Apollo2000, XeonGold614820C2.4GHz, InfinibandEDR, HPEGovernmentUnitedStates', '169920', '7483.7', '12902.4', ''], ['66', 'Artemis-NVIDIADGX-2, XeonPlatinum816824C2.7GHz, InfinibandEDR, NVIDIATeslaV100, NvidiaGroup42UnitedArabEmirates', '107568', '7257.0', '9492.2', '673'], ['67', 'CrayXC40, XeonE5-2695v418C2.1GHz, Ariesinterconnect, HPEUnitedKingdomMeteorologicalOfficeUnitedKingdom', '241920', '7038.9', '8128.5', ''], ['68', 'Levante-BullSequanaXH2000, AMDEPYC776364C2.45GHz, InfiniBandHDR100, AtosDKRZ-DeutschesKlimarechenzentrumGermany', '308096', '6998.8', '10276.0', ''], ['69', 'JOLIOT-CURIEROME-BullSequanaXH2000, AMDRome7H1264C2.6GHz, MellanoxHDR100, AtosCEA/TGCC-GENCIFrance', '197120', '6988.0', '12039.4', '1436'], ['70', 'Theta-CrayXC40, IntelXeonPhi723064C1.3GHz, Ariesinterconnect, HPEDOE/SC/ArgonneNationalLaboratoryUnitedStates', '280320', '6920.9', '11661.3', ''], ['71', 'Karolina, GPUpartition-Apollo6500, AMDEPYC776364C2.45GHz, NVIDIAA100SXM440GB, InfinibandHDR200, HPEIT4InnovationsNationalSupercomputingCenter, VSB-TechnicalUniversityofOstravaCzechia', '71424', '6752.0', '9080.2', '311'], ['72', 'Christofari-NVIDIADGX-2, XeonPlatinum816824C2.7GHz, MellanoxInfiniBandEDR, NVIDIATeslaV100, NvidiaSberCloudRussia', '99600', '6669.0', '8789.8', ''], ['73', 'Flow-PRIMEHPCFX1000, A64FX48C2.2GHz, TofuinterconnectD, FujitsuInformationTechnologyCenter, NagoyaUniversityJapan', '110592', '6617.8', '7785.7', ''], ['74', 'MareNostrum-LenovoSD530, XeonPlatinum816024C2.1GHz, IntelOmni-Path, LenovoBarcelonaSupercomputingCenterSpain', '153216', '6470.8', '10296.1', '1632'], ['75', 'ONYX-CrayXC40, XeonE5-2699v422C2.2GHz, Ariesinterconnect, HPEERDCDSRCUnitedStates', '211816', '6316.0', '7455.9', ''], ['76', 'LUMI-C-HPECrayEX, AMDEPYC776364C2.45GHz, Slingshot-10, HPEEuroHPC/CSCFinland', '194560', '6299.8', '7626.8', '1216'], ['77', 'JUWELSModule1-BullSequanaX1000, XeonPlatinum816824C2.7GHz, MellanoxEDRInfiniBand/ParTecParaStationClusterSuite, AtosForschungszentrumJuelich(FZJ)Germany', '114480', '6177.7', '9891.1', '1361'], ['78', 'HPESGI8600, XeonGold6248R24C3GHz, NVIDIATeslaV100SXM2, InfinibandEDR, HPEJapanAtomicEnergyAgency(JAEA)/NationalInstitutesforQuantumandRadiologicalScienceandTechnology(QST)Japan', '100096', '6162.0', '8439.6', ''], ['79', 'SQUID-CPUNodes-NECLX103Bj-8, XeonPlatinum836838C2.4GHz, InfinibandHDR200, NECOsakaUniversityJapan', '115520', '6105.1', '8871.9', '1222'], ['80', 'Lise-BullintelCluster, IntelXeonPlatinum924248C2.3GHz, IntelOmni-Path, AtosHLRNatZIB/KonradZuse-ZentrumBerlinGermany', '121920', '6048.3', '8930.9', ''], ['81', 'Pleiades-SGIICEX, IntelXeonE5-2670/E5-2680v2/E5-2680v3/E5-2680v42.6/2.8/2.5/2.4GHz, InfinibandFDR, HPENASA/AmesResearchCenter/NASUnitedStates', '241108', '5951.6', '7107.1', '4407'], ['82', 'Emmy+-BullSequanaX, IntelXeonPlatinum9242/Gold6148, IntelOmni-Path, AtosHLRN+atGWDG/UniversityofGöttingenGermany', '120296', '5948.8', '8911.3', ''], ['83', 'Narval(GPU)-PowerEdgeXE8545, AMDEPYC741324C2.65GHz, NVIDIAA100, InfiniBandHDR100, DELLEMCCalculQuébec/ComputeCanadaCanada', '76320', '5886.0', '12165.4', '311'], ['84', 'Aitken-HPEApollo9000/HPESGI8600, AMDEPYC774264C2.25GHz/IntelXeonGold624820C2.5GHz, MellanoxEDR/HDRInfiniband, HPENASA/AmesResearchCenter/NASUnitedStates', '175648', '5795.3', '8329.7', '1401'], ['85', 'Sawtooth-HPESGI8600, XeonPlatinum826824C2.9GHz, InfinibandEDR/HDR, HPEIdahoNationalLaboratoryUnitedStates', '99792', '5780.6', '9220.6', '1432'], ['86', 'CrayXC50, XeonPlatinum816024C2.1GHz, Ariesinterconnect, CrayInc./HitachiJapanMeteorologicalAgencyJapan', '135792', '5730.5', '9125.2', '1354'], ['87', 'CrayXC50, XeonPlatinum816024C2.1GHz, Ariesinterconnect, CrayInc./HitachiJapanMeteorologicalAgencyJapan', '135792', '5730.5', '9125.2', '1354'], ['88', 'COBRA-IntelComputeModuleHNS2600BP, XeonGold614820C2.4GHz, IntelOmni-Path, IntelMax-Planck-GesellschaftMPI/IPPGermany', '127520', '5612.8', '9793.5', '1635'], ['89', 'ShaheenII-CrayXC40, XeonE5-2698v316C2.3GHz, Ariesinterconnect, HPEKingAbdullahUniversityofScienceandTechnologySaudiArabia', '196608', '5537.0', '7235.2', '2834'], ['90', 'Electra-HPESGI8600/SGIICE-X, E5-2680V4/XeonGold614820C2.4GHz, InfinibandEDR/FDR-56IB, HPENASA/AmesResearchCenter/NASUnitedStates', '124416', '5444.6', '8316.5', '1686'], ['91', 'Raven-ThinkSystemSD650V2, XeonPlatinum8360Y36C2.4GHz, InfiniBandHDR100, LenovoMax-Planck-GesellschaftMPI/IPPGermany', '114624', '5416.0', '8803.1', ''], ['92', 'MAHTI-BullSequanaXH2000, AMDRome7H1264C2.6GHz, MellanoxHDR100, AtosCSC(CenterforScientificComputing)Finland', '169728', '5388.5', '7060.7', '1070'], ['93', 'Pangea-SGIICEX, XeonXeonE5-2670/E5-2680v312C2.5GHz, InfinibandFDR, HPETotalExplorationProductionFrance', '220800', '5283.1', '6712.3', '4150'], ['94', 'Berzelius-NVIDIADGXA100, AMDEPYC774264C2.25GHz, NVIDIAA100, InfinibandHDR, AtosNationalSupercomputerCentre(NSC)Sweden', '59520', '5253.0', '9636.5', ''], ['95', 'DiRAC, Tursa-BullSequanaXH2000, AMDEPYC730232C3GHz, NVIDIAA10040GB, MellanoxHDRInfiniband, AtosUniversityofEdinburghUnitedKingdom', '55552', '5228.0', '8580.0', '244'], ['96', 'TX-GAIA(GreenAIAccelerator)-Apollo2000, XeonGold624820C2.5GHz, NVIDIATeslaV100, IntelOmni-Path, HPEMITLincolnLaboratorySupercomputingCenterUnitedStates', '88400', '5161.0', '6981.5', '1436'], ['97', 'BioHive-1-NVIDIADGXA100, AMDEPYC774264C2.25GHz, NVIDIAA100, MellanoxHDRInfiniband, NvidiaRecursionUnitedStates', '39680', '4902.0', '5709.4', ''], ['98', 'FlowTypeIIsubsystem-PRIMERGYCX2570M5, XeonGold623020C2.1GHz, NVIDIATeslaV100SXM2, InfinibandEDR, FujitsuInformationTechnologyCenter, NagoyaUniversityJapan', '79560', '4880.5', '7519.3', ''], ['99', 'Eagle-HPESGI8600, XeonGold615418C3GHz, EDRInfiniband/8DHypercube, HPENationalRenewableEnergyLaboratoryUnitedStates', '75600', '4850.7', '7257.6', ''], ['100', 'Cheyenne-SGIICEXA, XeonE5-2697v418C2.3GHz, InfinibandEDR, HPENationalCenterforAtmosphericResearch(NCAR)UnitedStates', '144900', '4788.2', '5332.3', '1727']]\n"
     ]
    }
   ],
   "source": [
    "print(rows)\n"
   ]
  },
  {
   "cell_type": "code",
   "execution_count": null,
   "metadata": {},
   "outputs": [],
   "source": []
  }
 ],
 "metadata": {
  "interpreter": {
   "hash": "96eb50e1d44aed467dc8f759cb08c32fbfa9babcf79c554e2d0e5feb04653a10"
  },
  "kernelspec": {
   "display_name": "Python 3.9.7 ('base')",
   "language": "python",
   "name": "python3"
  },
  "language_info": {
   "codemirror_mode": {
    "name": "ipython",
    "version": 3
   },
   "file_extension": ".py",
   "mimetype": "text/x-python",
   "name": "python",
   "nbconvert_exporter": "python",
   "pygments_lexer": "ipython3",
   "version": "3.9.7"
  },
  "orig_nbformat": 4
 },
 "nbformat": 4,
 "nbformat_minor": 2
}

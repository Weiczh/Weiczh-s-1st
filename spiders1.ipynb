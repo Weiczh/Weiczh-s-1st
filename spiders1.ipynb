{
 "cells": [
  {
   "cell_type": "code",
   "execution_count": 1,
   "metadata": {},
   "outputs": [],
   "source": [
    "from bs4 import BeautifulSoup as bs\n",
    "#import urllib\n",
    "#import urllib.request\n",
    "from urllib.request import urlopen\n",
    "#import csv\n",
    "\n",
    "def get_rows(): #get the data from the web\n",
    "    rows=[]\n",
    "    rows.append([\"Rank\",\"System\",\"Cores\",\"Rmax\",\"Rpeak\",\"Power\"])\n",
    "    for i in range(1, 6):\n",
    "        urpage=f'https://top500.org/lists/top500/list/2021/11/?page={i}'\n",
    "        page=urlopen(urpage)\n",
    "        soup=bs(page,\"html.parser\")\n",
    "        table=soup.find(\"table\")\n",
    "        results=table.find_all('tr')\n",
    "        for result in results:\n",
    "            data=result.find_all(\"td\")\n",
    "            if len(data)==0:\n",
    "                continue\n",
    "            rank=data[0].getText()\n",
    "            system=data[1].getText()\n",
    "            Cores=data[2].getText()\n",
    "            Rmax=data[3].getText()\n",
    "            Rpeak=data[4].getText()\n",
    "            Power=data[5].getText()\n",
    "            ## 处理数据与符号\n",
    "            system=system.replace('\\n','').replace(' ','').replace(',',', ')\n",
    "            Cores=Cores.replace(',','')\n",
    "            Rmax=Rmax.replace(',','')\n",
    "            Rpeak=Rpeak.replace(',','')\n",
    "            Power=Power.replace(',','')\n",
    "            rows.append([rank,system,Cores,Rmax,Rpeak,Power])\n",
    "            mrows=[rank,system,Cores,Rmax,Rpeak,Power]\n",
    "    return rows\n",
    "\n",
    "def search(sth,rows):#A searching function\n",
    "    list=[]\n",
    "    for i in rows:\n",
    "        for j in i:\n",
    "            if sth in j:\n",
    "                list.append(i)\n",
    "    if len(list)==0:\n",
    "        return 'No match.'\n",
    "    else:\n",
    "        list.insert(0,[\"Rank\",\"System\",\"Cores\",\"Rmax\",\"Rpeak\",\"Power\"])\n",
    "        return list\n",
    "\n",
    "\n"
   ]
  },
  {
   "cell_type": "code",
   "execution_count": 2,
   "metadata": {},
   "outputs": [],
   "source": [
    "rows=get_rows()"
   ]
  },
  {
   "cell_type": "code",
   "execution_count": 3,
   "metadata": {},
   "outputs": [
    {
     "data": {
      "text/plain": [
       "[['Rank', 'System', 'Cores', 'Rmax', 'Rpeak', 'Power'],\n",
       " ['201',\n",
       "  'ZZ3-ThinkSystemHR650X, XeonGold613320C2.5GHz, 10GEthernet, LenovoServiceProviderTChina',\n",
       "  '66400',\n",
       "  '2721.3',\n",
       "  '5312.0',\n",
       "  '']]"
      ]
     },
     "execution_count": 3,
     "metadata": {},
     "output_type": "execute_result"
    }
   ],
   "source": [
    "search('ZZ3',rows)"
   ]
  },
  {
   "cell_type": "code",
   "execution_count": 104,
   "metadata": {},
   "outputs": [],
   "source": []
  },
  {
   "cell_type": "code",
   "execution_count": null,
   "metadata": {},
   "outputs": [],
   "source": []
  }
 ],
 "metadata": {
  "interpreter": {
   "hash": "96eb50e1d44aed467dc8f759cb08c32fbfa9babcf79c554e2d0e5feb04653a10"
  },
  "kernelspec": {
   "display_name": "Python 3.9.7 ('base')",
   "language": "python",
   "name": "python3"
  },
  "language_info": {
   "codemirror_mode": {
    "name": "ipython",
    "version": 3
   },
   "file_extension": ".py",
   "mimetype": "text/x-python",
   "name": "python",
   "nbconvert_exporter": "python",
   "pygments_lexer": "ipython3",
   "version": "3.9.7"
  },
  "orig_nbformat": 4
 },
 "nbformat": 4,
 "nbformat_minor": 2
}

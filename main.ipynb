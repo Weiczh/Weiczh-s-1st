{
 "cells": [
  {
   "cell_type": "code",
   "execution_count": 1,
   "metadata": {},
   "outputs": [],
   "source": [
    "from utils import get_rows\n",
    "from utils import search\n",
    "rows=get_rows()"
   ]
  },
  {
   "cell_type": "code",
   "execution_count": 4,
   "metadata": {},
   "outputs": [
    {
     "data": {
      "text/plain": [
       "[['Rank', 'System', 'Cores', 'Rmax', 'Rpeak', 'Power'],\n",
       " ['4',\n",
       "  'SunwayTaihuLight-SunwayMPP, SunwaySW26010260C1.45GHz, Sunway, NRCPCNationalSupercomputingCenterinWuxiChina',\n",
       "  '10649600',\n",
       "  '93014.6',\n",
       "  '125435.9',\n",
       "  '15371']]"
      ]
     },
     "execution_count": 4,
     "metadata": {},
     "output_type": "execute_result"
    }
   ],
   "source": [
    "search('SunwayTaihuLight',rows)"
   ]
  },
  {
   "cell_type": "code",
   "execution_count": 3,
   "metadata": {},
   "outputs": [
    {
     "name": "stdout",
     "output_type": "stream",
     "text": [
      "SunwayTaihuLight\n",
      "‘SunwayTaihuLight’\n",
      "‘SunwayTaihuLight'\n",
      "'SunwayTaihuLight'\n",
      "'SunwayTaihuLight'\n",
      "'SunwayTaihuLight'\n",
      "'SunwayTaihuLight'\n"
     ]
    }
   ],
   "source": [
    "import PySimpleGUI as sg\n",
    "\n",
    "sg.theme('DarkAmber')   # set the theme\n",
    "\n",
    "layout = [  [sg.Text('Enter the searching item'), sg.InputText()],#set the layout of the window\n",
    "            [sg.Button('Ok'), sg.Button('Cancel')] ]\n",
    "\n",
    "window = sg.Window('Searching Top500', layout)#set the window\n",
    "\n",
    "while True:  \n",
    "    event, values = window.read() #get the values and the event \n",
    "    if event in (None, 'Cancel'):\n",
    "       break\n",
    "    else:\n",
    "        print(values[0])\n",
    "        search(values[0],rows)\n"
   ]
  },
  {
   "cell_type": "code",
   "execution_count": 12,
   "metadata": {},
   "outputs": [
    {
     "ename": "NameError",
     "evalue": "name 'asdadwd' is not defined",
     "output_type": "error",
     "traceback": [
      "\u001b[1;31m---------------------------------------------------------------------------\u001b[0m",
      "\u001b[1;31mNameError\u001b[0m                                 Traceback (most recent call last)",
      "\u001b[1;32m~\\AppData\\Local\\Temp/ipykernel_19224/2481635746.py\u001b[0m in \u001b[0;36m<module>\u001b[1;34m\u001b[0m\n\u001b[1;32m----> 1\u001b[1;33m \u001b[0msth\u001b[0m\u001b[1;33m=\u001b[0m\u001b[0masdadwd\u001b[0m\u001b[1;33m\u001b[0m\u001b[1;33m\u001b[0m\u001b[0m\n\u001b[0m\u001b[0;32m      2\u001b[0m \u001b[0msth\u001b[0m\u001b[1;33m=\u001b[0m\u001b[1;34mf'{sth}'\u001b[0m\u001b[1;33m\u001b[0m\u001b[1;33m\u001b[0m\u001b[0m\n\u001b[0;32m      3\u001b[0m \u001b[0mprint\u001b[0m\u001b[1;33m(\u001b[0m\u001b[0msth\u001b[0m\u001b[1;33m)\u001b[0m\u001b[1;33m\u001b[0m\u001b[1;33m\u001b[0m\u001b[0m\n",
      "\u001b[1;31mNameError\u001b[0m: name 'asdadwd' is not defined"
     ]
    }
   ],
   "source": [
    "sth=asdadwd\n",
    "sth=f'{sth}'\n",
    "print(sth)"
   ]
  },
  {
   "cell_type": "code",
   "execution_count": null,
   "metadata": {},
   "outputs": [],
   "source": []
  }
 ],
 "metadata": {
  "interpreter": {
   "hash": "96eb50e1d44aed467dc8f759cb08c32fbfa9babcf79c554e2d0e5feb04653a10"
  },
  "kernelspec": {
   "display_name": "Python 3.9.7 ('base')",
   "language": "python",
   "name": "python3"
  },
  "language_info": {
   "codemirror_mode": {
    "name": "ipython",
    "version": 3
   },
   "file_extension": ".py",
   "mimetype": "text/x-python",
   "name": "python",
   "nbconvert_exporter": "python",
   "pygments_lexer": "ipython3",
   "version": "3.9.7"
  },
  "orig_nbformat": 4
 },
 "nbformat": 4,
 "nbformat_minor": 2
}
